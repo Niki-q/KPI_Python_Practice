{
  "nbformat": 4,
  "nbformat_minor": 0,
  "metadata": {
    "colab": {
      "name": "Practice_14_KM_01.ipynb",
      "provenance": [],
      "collapsed_sections": []
    },
    "kernelspec": {
      "name": "python3",
      "display_name": "Python 3.7.9 64-bit",
      "metadata": {
        "interpreter": {
          "hash": "e700657700ca3726e7d919db0cb1bdb00b1449743532d1443fbe37ca2c1ec67d"
        }
      }
    }
  },
  "cells": [
    {
      "cell_type": "markdown",
      "metadata": {
        "id": "FMqboNwO4rVs"
      },
      "source": [
        "# **Курс \"Програмування на мові Python\"**\n",
        "\n",
        "##### Викладачі:\n",
        "##### Борисенко Павло Борисович\n",
        "##### Щьоголєв Максим Олегович\n"
      ]
    },
    {
      "cell_type": "markdown",
      "metadata": {
        "id": "A2T6MigL5Z06"
      },
      "source": [
        "## **Практичне зайняття №14**\n",
        "\n",
        "### Тема: \"Робота з файлами\""
      ]
    },
    {
      "cell_type": "markdown",
      "metadata": {
        "id": "cfCdgK2zXm7e"
      },
      "source": [
        "### **Завдання 1 (1,5 бали)**\n",
        "\n",
        "У 1939 році друком вийшов роман американського письменика Ернеста Вінсента Райта \"Ґетсбі\". Особливу увагу публіки він здобув через те, що письменник жодного разу не використав у романі літеру \"e\" (роман складається з більше ніж 50,000 слів), яка є найбільш вживаною літерою в англійській мові.\n",
        "\n",
        "Порахуйте кількість входжень кожної літери у текст роману. Виведіть список літер англійського алфавіту, а також інформацію про те, скільки відсотків від усіх літер тексту складає кожна літера алфавіту.\n",
        "\n",
        "Зауваження:\n",
        "\n",
        "1. Програма має ігнорувати будь-які символи, окрім літер.\n",
        "\n",
        "2. Переведіть усі літери у верхній або у нижній регістр.\n",
        "\n",
        "3. Під час виведення відсортуйте літери у порядку зменшення їхнього відсотка. Літера \"e\" має стояти на останньому місці у цьому списку.\n",
        "\n",
        "4. Виведіть перші 5 та останні 5 літер відсортованого списку разом з відсотковими значеннями, що їм відповідають."
      ]
    },
    {
      "cell_type": "code",
      "metadata": {
        "tags": [],
        "id": "u4-fHJJ6U462"
      },
      "source": [
        "\n",
        "\n",
        "def count_letter(letter):\n",
        "    f = open('gadsby.txt', 'r')\n",
        "    lines = f.readlines()\n",
        "    k = 0\n",
        "    for line in lines:\n",
        "        string_search = line.lower()\n",
        "        # f.write(string_search)\n",
        "        list_letter_search = list(string_search)\n",
        "        k = k + list_letter_search.count(letter)\n",
        "    return k\n",
        "\n",
        "\n",
        "def percent_of_letter(list_letter):\n",
        "    sum_l = sum(list_letter)\n",
        "    l = []\n",
        "    for i in range(0, len(list_letter)):\n",
        "        l.append(round(list_letter[i]*100 / sum_l,2))\n",
        "    return l\n",
        "\n",
        "\n",
        "def map(function, list):\n",
        "    l = []\n",
        "    for i in range(0, len(list)):\n",
        "        l.append(function(list[i]))\n",
        "    return l\n",
        "\n",
        "\n",
        "string_abc = 'abcdefghijklmnopqrstuvwxyz'\n",
        "abc = list(string_abc)\n",
        "count_arg = percent_of_letter(map(count_letter, abc))\n",
        "sorted_count_arg = sorted(count_arg,reverse=True)\n",
        "exit_list = []\n",
        "for i in range(0,5):\n",
        "    print(abc[count_arg.index(sorted_count_arg[i])],\" - \",sorted_count_arg[i],'%')\n",
        "print(\"------------\")\n",
        "for i in range(len(abc)-5,len(abc)):\n",
        "    print(abc[count_arg.index(sorted_count_arg[i])],\" - \",sorted_count_arg[i],'%')\n",
        "\n",
        "\n"
      ],
      "execution_count": 42,
      "outputs": [
        {
          "output_type": "stream",
          "name": "stdout",
          "text": [
            "a  -  10.89 %\no  -  10.37 %\ni  -  8.79 %\nn  -  8.56 %\nt  -  8.53 %\n------------\ne  -  0.23 %\nj  -  0.22 %\nz  -  0.11 %\nx  -  0.08 %\nq  -  0.05 %\n"
          ]
        }
      ]
    },
    {
      "cell_type": "markdown",
      "metadata": {
        "id": "A34oz70eU463"
      },
      "source": [
        "### **Завдання 2 (1,5 бали)**\n",
        "\n",
        "Створіть CSV-файл, що буде містити від 5 до 10 пісень (творів) вашого улюбленого музиканта. Назва файлу - ім'я музиканта (композитора) або назва гурту.\n",
        "\n",
        "1. Обов'язково додайте до файлу рядок з назвами двох колонок (Song, Year) або (Composition, Year).\n",
        "\n",
        "2. Після запису файлу роздрукуйте назву файлу та усі наявні у файлі рядки (включно із заголовками).\n",
        "\n",
        "3. Для запису та зчитування рядків скористайтесь функціями csv.DictWriter() та csv.DictReader()."
      ]
    },
    {
      "cell_type": "code",
      "metadata": {
        "id": "MEJIrG1GU463"
      },
      "source": [
        "import csv\n",
        "with open('LSP.csv', 'w', newline='') as csvfile:\n",
        "    fieldnames = ['song', 'year']\n",
        "    writer = csv.DictWriter(csvfile, fieldnames=fieldnames)\n",
        "    writer.writeheader()\n",
        "    writer.writerow({'song': 'УУУ',\n",
        "                     'year': '2020'})\n",
        "    writer.writerow({'song': 'Звезда',\n",
        "                     'year': '2020'})\n",
        "    writer.writerow({'song': 'Один',\n",
        "                     'year': '2020'})\n",
        "    writer.writerow({'song': 'Мамонтёнок',\n",
        "                     'year': '2020'})\n",
        "    writer.writerow({'song': 'Парный дурак',\n",
        "                     'year': '2020'})\n",
        "    writer.writerow({'song': 'Бинокль',\n",
        "                     'year': '2020'})\n",
        "    writer.writerow({'song': \"Именно такой'20\",\n",
        "                     'year': '2020'})\n",
        "\n",
        "\n",
        "with open('LSP.csv', newline='') as csvfile:\n",
        "    reader = csv.DictReader(csvfile)\n",
        "    for heading in reader.fieldnames:\n",
        "        print(heading, end=' ')\n",
        "    print('\\n------------------------------')\n",
        "    for row in reader:\n",
        "        print(row['song'], row['year'])"
      ],
      "execution_count": 45,
      "outputs": [
        {
          "output_type": "stream",
          "name": "stdout",
          "text": [
            "song year \n------------------------------\nУУУ 2020\nЗвезда 2020\nОдин 2020\nМамонтёнок 2020\nПарный дурак 2020\nБинокль 2020\nИменно такой'20 2020\n"
          ]
        }
      ]
    },
    {
      "cell_type": "markdown",
      "metadata": {
        "id": "Jb-eSBsWU464"
      },
      "source": [
        "### **Завдання 3 (бонусне, 1 бал)**\n",
        "\n",
        "COCO Dataset - набір фотографій та анотацій до них. Його дуже часто використовують для тренування класифікаторів, призначених для розпізнавання об'єктів та визначення ключових точок на зображеннях.\n",
        "\n",
        "Завантажте файли з описом фотографій COCO Dataset за посиланням: http://images.cocodataset.org/annotations/image_info_test2017.zip\n",
        "\n",
        "1. Відкрийте файл image_info_test-dev2017.json. Інформація про фотографії з бази COCO міститься у полі \"images\". Інформація про категорії, на які розділені всі фотографії, міститься у полі \"categories\".\n",
        "\n",
        "2. Визначте кількість фотографій, інформацію про які можна знайти у цьому файлі (кількість елементів, що відповідають ключу \"images\").\n",
        "\n",
        "3. Визначте кількість наявних категорій (кількість елементів, що відповідають ключу \"categories\").\n",
        "\n",
        "4. Виведіть посилання на фотографію 000000000001.jpg (\"coco_url\"), висоту цієї фотографії (\"height\"), ширину (\"width\") та її ідентифікатор (\"id\").\n",
        "\n",
        "5. Опис структури JSON-файлу для набору фотографій COCO можна знайти за посиланням: https://cocodataset.org/#format-data\n",
        "\n",
        "6. Щоб перевірити правильність результатів, у VS Code встановіть розширення JSON та відкрийте файл image_info_test-dev2017.json. Розширення автоматично визначає кількість елементів у кожному полі."
      ]
    },
    {
      "cell_type": "code",
      "metadata": {
        "id": "74C6WKB_U464"
      },
      "source": [],
      "execution_count": null,
      "outputs": []
    }
  ]
}
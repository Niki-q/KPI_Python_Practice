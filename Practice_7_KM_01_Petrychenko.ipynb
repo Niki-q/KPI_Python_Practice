{
  "nbformat": 4,
  "nbformat_minor": 0,
  "metadata": {
    "colab": {
      "name": "Practice_7_KM-01_.ipynb",
      "provenance": [],
      "collapsed_sections": []
    },
    "kernelspec": {
      "name": "Python 3.7.9 64-bit",
      "display_name": "Python 3.7.9 64-bit",
      "metadata": {
        "interpreter": {
          "hash": "e700657700ca3726e7d919db0cb1bdb00b1449743532d1443fbe37ca2c1ec67d"
        }
      }
    }
  },
  "cells": [
    {
      "cell_type": "markdown",
      "metadata": {
        "id": "FMqboNwO4rVs"
      },
      "source": [
        "# **Курс \"Програмування на мові Python\"**\n",
        "\n",
        "##### Викладачі:\n",
        "##### Борисенко Павло Борисович\n",
        "##### Щьоголєв Максим Олегович\n"
      ]
    },
    {
      "cell_type": "markdown",
      "metadata": {
        "id": "A2T6MigL5Z06"
      },
      "source": [
        "## **Практичне зайняття №7**\n",
        "\n",
        "### Тема: \"Перевірка даних. Робота з виключеннями. Регулярні вирази\""
      ]
    },
    {
      "cell_type": "markdown",
      "metadata": {
        "id": "cfCdgK2zXm7e"
      },
      "source": [
        "### **Завдання 1 (1,5 бали)**\n",
        "\n",
        "Переробити завдання №1 практичної роботи №6 з використанням регулярних виразів.\n",
        "\n",
        "1. Створити шаблон регулярного виразу.\n",
        "\n",
        "2. За допомогою функції compile() створити об'єкт регулярного виразу.\n",
        "\n",
        "3. Всі інші вимоги залишаються такими ж, як і в оригінальному завданні."
      ]
    },
    {
      "cell_type": "code",
      "metadata": {
        "id": "ifNX2M7LXm7f"
      },
      "source": [
        "pose_estimation = \"[BodyPart:0-(0.55, 0.17) score=0.81 BodyPart:1-(0.49, 0.27) score=0.85 BodyPart:2-(0.41, 0.26) score=0.67 BodyPart:3-(0.33, 0.37) score=0.72 BodyPart:4-(0.36, 0.48) score=0.78 BodyPart:5-(0.58, 0.27) score=0.81 BodyPart:6-(0.65, 0.38) score=0.88 BodyPart:7-(0.62, 0.48) score=0.86 BodyPart:8-(0.43, 0.48) score=0.60 BodyPart:9-(0.43, 0.66) score=0.67 BodyPart:10-(0.53, 0.79) score=0.56 BodyPart:11-(0.53, 0.48) score=0.56 BodyPart:12-(0.59, 0.66) score=0.75 BodyPart:13-(0.49, 0.80) score=0.50 BodyPart:14-(0.54, 0.15) score=0.73 BodyPart:15-(0.56, 0.15) score=0.85 BodyPart:16-(0.48, 0.16) score=0.81 BodyPart:17-(0.83, 0.18) score=0.79]\"\n",
        "import re \n",
        "clear = '\\d.\\d{1,2}'\n",
        "p = re.compile(clear)\n",
        "list_zero = p.findall(pose_estimation)\n",
        "print (list_zero)\n",
        "i = 0 \n",
        "list_points = []\n",
        "list_score = []\n",
        "while i <= (len(list_zero)-1):\n",
        "    list_points.append(float(list_zero[i]))\n",
        "    list_points.append(float(list_zero[i+1]))\n",
        "    list_score.append(float(list_zero[i+2]))\n",
        "    i = i + 3 \n",
        "print(list_points)\n",
        "print(list_score)"
      ],
      "execution_count": 1,
      "outputs": []
    },
    {
      "cell_type": "markdown",
      "metadata": {
        "id": "M1Sg0vXJXm7n"
      },
      "source": [
        "### **Завдання 2 (1,5 бали)**\n",
        "\n",
        "Написати програму підрахунку коренів квадратного рівняння без попередніх перевірок.\n",
        "\n",
        "1. Користувач має вводити коефіцієнти a, b та c з клавіатури.\n",
        "\n",
        "2. Програма має обробляти помилки ділення на 0, кореня від'ємного числа та інші, а також виводити відповідні повідомлення у разі виникнення таких помилок.\n",
        "\n",
        "3. Якщо рівняння не має коренів, программа має генерувати помилку за допомогою ключового слова raise, а потім обробляти її.\n",
        "\n",
        "4. Правильно написана програма при виникненні різних помилок має виводити текст помилки, а також різні повідомлення про те, в чому суть цих помилок. Необроблених помилок бути не повинно."
      ]
    },
    {
      "cell_type": "code",
      "metadata": {
        "id": "co7fcAuvXm7o"
      },
      "source": [
        "import math\n",
        "\n",
        "\n",
        "def float_check(val):\n",
        "    val = input(val)\n",
        "    while type(val) != float:\n",
        "        try:\n",
        "            val = float(val)\n",
        "        except:\n",
        "            val = input(\"Введите рациональное значение: \")\n",
        "    return val\n",
        "\n",
        "print(\"Введите коэффициенты для уравнения\")\n",
        "print(\"ax^2 + bx + c = 0:\")\n",
        "a = float_check(\"a = \")\n",
        "b = float_check(\"b = \")\n",
        "c = float_check(\"c = \")\n",
        "\n",
        "d = b ** 2 - 4 * a * c\n",
        "try:\n",
        "    if a == 0:\n",
        "        raise ZeroDivisionError\n",
        "    if d < 0:\n",
        "        raise ValueError\n",
        "    else:\n",
        "        \n",
        "        print(f\"Дискриминант D = {d}\")\n",
        "        x1 = (-b + math.sqrt(d)) / (2 * a)\n",
        "        x2 = (-b - math.sqrt(d)) / (2 * a)\n",
        "        if x1==x2:\n",
        "            print(f\"x = {x1}\")\n",
        "        else:\n",
        "            print(f\"x1 = {x1} \\nx2 = {x2}\")\n",
        "            print(\"При расчетах не было выявлено ошибок\")\n",
        "except ZeroDivisionError as division_zero:\n",
        "    print(division_zero)\n",
        "    print(\"Выявлена ошибка при делении на 0, пожалуйста попробуйте еще раз\")\n",
        "except ValueError as diskriminant_negative:\n",
        "    print(diskriminant_negative)\n",
        "    print(\"Выявлена ошибка, дискриминант отрецательный, пожалуйста попробуйте еще раз\")\n"
      ],
      "execution_count": 8,
      "outputs": [
        {
          "output_type": "stream",
          "name": "stdout",
          "text": [
            "Введите коэффициенты для уравнения\n",
            "ax^2 + bx + c = 0:\n",
            "\n",
            "Выявлена ошибка, дискриминант отрецательный, пожалуйста попробуйте еще раз\n"
          ]
        }
      ]
    },
    {
      "cell_type": "code",
      "execution_count": null,
      "metadata": {},
      "outputs": [],
      "source": []
    }
  ]
}
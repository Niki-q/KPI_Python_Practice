{
  "nbformat": 4,
  "nbformat_minor": 0,
  "metadata": {
    "colab": {
      "name": "Pranctice_3_KM-01_<name>.ipynb",
      "provenance": [],
      "collapsed_sections": []
    },
    "kernelspec": {
      "name": "Python 3.7.9 64-bit",
      "display_name": "Python 3.7.9 64-bit",
      "metadata": {
        "interpreter": {
          "hash": "e700657700ca3726e7d919db0cb1bdb00b1449743532d1443fbe37ca2c1ec67d"
        }
      }
    }
  },
  "cells": [
    {
      "cell_type": "markdown",
      "metadata": {
        "id": "1bRxWHr5e8kt"
      },
      "source": [
        "# **Курс \"Програмування на мові Python\"**\n",
        "\n",
        "##### Викладачі:\n",
        "##### Борисенко Павло Борисович\n",
        "##### Щьоголєв Максим Олегович\n",
        "\n",
        "## **Практичне зайняття №3**\n",
        "\n",
        "### Тема: \"Перші програми на Python. Введення та виведення даних\""
      ]
    },
    {
      "cell_type": "markdown",
      "metadata": {
        "id": "M7jjwxAvfKa2"
      },
      "source": [
        "### **Завдання 1 (1,5 бали)**\n",
        "\n",
        "**Написати програму введення та виведення даних про одержувача листа (посилки) за стандартами Укрпошти.**\n",
        "\n",
        "1. Усі запити на введення даних повинні супроводжуватись відповідними підказками-поясненнями (бажано англійською мовою).\n",
        "\n",
        "2. Дані мають виводитись так, як показано нижче (з урахуванням кількості рядків та послідовності даних у кожному з них).\n",
        "\n",
        "3. Дані, виділені жирним шрифтом, повинні вводитись із клавіатури. Всього має бути 9 окремих команд введення даних\n",
        "\n",
        "4. Назви змінних повинні бути інформативними та оформленими відповідно до правил іменування змінних\n",
        "\n",
        "5. Додати 2 коментарі, що вказують на блоки введення та виведення даних.\n",
        "\n",
        "***Формат виведення даних:***\n",
        "\n",
        "(1) **Lucas** (2) **Diallo**\n",
        "\n",
        "(3) **+3221234567**\n",
        "\n",
        "Rue (4) **Longue** (5) **3**, ap. (6) **5**, (7) **Bruxelles**\n",
        "\n",
        "(8) **1020**\n",
        "\n",
        "(9) **Belgium**"
      ]
    },
    {
      "cell_type": "code",
      "metadata": {
        "id": "hEJG5C3_fJk9",
        "tags": []
      },
      "source": [
        "# check func (str & integer & phone)\n",
        "import re\n",
        "\n",
        "\n",
        "def int_check(text):\n",
        "    val = input(text)\n",
        "    while type(val) != int:\n",
        "        try:\n",
        "            val = int(val)\n",
        "        except:\n",
        "            val = input(\"Enter an integer value:  \")\n",
        "    return int(val)\n",
        "\n",
        "\n",
        "def str_check(text):\n",
        "    val = input(text)\n",
        "    pattern1 = \"^ *$\"\n",
        "    while re.match(pattern1, val):\n",
        "        val = input(\"you entered an empty value, this field will not be filled, please enter a non-blank value : \")\n",
        "    return val\n",
        "\n",
        "\n",
        "def phone_check(text):\n",
        "    val = input(text)\n",
        "    pattern = \"^[+]\\d{10}\\d?\\d?$\"\n",
        "    while not re.match(pattern, val):\n",
        "        val = input(\"Enter an phone-number value:\")\n",
        "    return val\n",
        "\n",
        "\n",
        "# data entry\n",
        "first_name = str_check(\"Enter your First Name \")\n",
        "last_name = str_check(\"Enter your Last Name \")\n",
        "phone_number = phone_check(\"Enter your phone number ( ex. +3221234567 ) \")\n",
        "street_name = str_check(\"Enter your street name \")\n",
        "street_number = int_check(\"Enter your street number \")\n",
        "apt_number = str_check(\"Enter your apt \")\n",
        "city = str_check(\"Enter your city name \")\n",
        "num_zip = int_check(\"Enter your zip code \")\n",
        "country = str_check(\"Enter your country \")\n",
        "\n",
        "# data output\n",
        "print(f\"(1) {first_name} (2) {last_name}\")\n",
        "print(f\"(3) {phone_number}\")\n",
        "print(f\"Rue (4) {street_name} (5) {street_number}, ap. (6) {apt_number}, (7) {city}\")\n",
        "print(f\"(8) {num_zip}\")\n",
        "print(f\"(9) {country}\")\n"
      ],
      "execution_count": null,
      "outputs": []
    },
    {
      "cell_type": "markdown",
      "metadata": {
        "id": "4n4p_pz7gFKM"
      },
      "source": [
        "### **Завдання 2 (1,5 бали)**\n",
        "\n",
        "Таблиця містить магнітуду землетрусів за шкалою Ріхтера та дескриптори, що їй відповідають.\n",
        "\n",
        "Магнітуда | Дескриптор\n",
        "--- | ---\n",
        "Менше, ніж 2 | Micro\n",
        "Від 2 до менше ніж 3 | Very minor\n",
        "Від 3 до менше ніж 4 | Minor\n",
        "Від 4 до менше ніж 5 | Light\n",
        "Від 5 до менше ніж 6 | Moderate\n",
        "Від 6 до менше ніж 7 | Strong\n",
        "Від 7 до менше ніж 8 | Major\n",
        "Від 8 до менше ніж 10 | Great\n",
        "10 та більше | Meteoric\n",
        "\n",
        "Напишіть програму, яка буде зчитувати магнітуду, введену користувачем, та виводити відповідний дескриптор як частину змістовного повідомлення. Наприклад, якщо користувач вводить 5.5, ваша програма повинна показати, що землетрус з такою магнітудою є помірним (moderate)."
      ]
    },
    {
      "cell_type": "code",
      "metadata": {
        "id": "Nv66Jkkpf-sI"
      },
      "source": [
        "#check func (float)\n",
        "\n",
        "\n",
        "def float_check(val):\n",
        "    while type(val) != float:\n",
        "        try:\n",
        "            val = float(val)\n",
        "        except:\n",
        "            val = input(\"Enter a rational value: \")\n",
        "    return float(val)\n",
        "\n",
        "\n",
        "#program\n",
        "x = float_check(\"Please, enter magnitude of earthquake:  \")\n",
        "if x < 2:\n",
        "    y = \"Micro\"\n",
        "elif x >= 2 and x < 3:\n",
        "    y = \"Very minor\"\n",
        "elif x >= 3 and x < 4:\n",
        "    y = \"Minor\"\n",
        "elif x >= 4 and x < 5:\n",
        "    y = \"Light\"\n",
        "elif x >= 5 and x < 6:\n",
        "    y = \"Moderate\"\n",
        "elif x >= 6 and x < 7:\n",
        "    y = \"Strong\"\n",
        "elif x >= 7 and x < 8:\n",
        "    y = \"Major\"\n",
        "elif x >= 8 and x < 10:\n",
        "    y = \"Great\"\n",
        "else:\n",
        "    y = \"Meteoric\"\n",
        "print(\"Earthquake is - \", y)"
      ],
      "execution_count": null,
      "outputs": []
    },
    {
      "cell_type": "markdown",
      "metadata": {
        "id": "b593txPwotgN"
      },
      "source": [
        "### **Завдання 3 (бонусне, 1 бал)**\n",
        "\n",
        "Часто говорять, що один календарний рік еквівалентний 7 рокам для собаки. Однак таке просте перетворення не враховує того, що собаки досягають \"повноліття\" приблизно у 2 роки. Тому деякі люди вважать, що краще рахувати кожен з перших двох календарних років як 10,5 років для собаки, а потім рахувати кожен наступний календарний рік як 4 роки для собаки.\n",
        "\n",
        "Напишіть програму, яка конвертує календарні роки у \"собачі\", як було показано в попередньому абзаці. Переконайтесь, що ваша програма працює правильно, конвертуючи перші два календарні роки та всі подальші. Ваша програма також повинна виводити повідомлення про помилку, якщо користувач введе від'ємне число."
      ]
    },
    {
      "cell_type": "code",
      "metadata": {
        "id": "PA_E_H0Zosu0",
        "tags": []
      },
      "source": [
        "#check func (positive int)\n",
        "import re\n",
        "\n",
        "\n",
        "def float_positive_check(text):\n",
        "    val = input(text)\n",
        "    while type(val) != float:\n",
        "        try:\n",
        "            val = float(val)\n",
        "            while float(val) < 0:\n",
        "                val = input(\"You entered a negative rational number, please enter a positive : \")\n",
        "        except:\n",
        "            val = input(\"Enter a rational value: \")\n",
        "    return float(val)\n",
        "\n",
        "\n",
        "\n",
        "#program\n",
        "calendar = float_positive_check(\"Enter the number of calendar years :\")\n",
        "if calendar>2:\n",
        "    dogs = (calendar-2)*4+2*10.5\n",
        "else:\n",
        "    dogs = calendar*10.5\n",
        "dogs= round(dogs,2)\n",
        "print(f\"Turns out in dog years - {dogs} years \")"
      ],
      "execution_count": 10,
      "outputs": [
        {
          "output_type": "stream",
          "name": "stdout",
          "text": "Turns out in dog years - 4.87 years \n"
        }
      ]
    },
    {
      "cell_type": "code",
      "execution_count": null,
      "metadata": {},
      "outputs": [],
      "source": []
    }
  ]
}